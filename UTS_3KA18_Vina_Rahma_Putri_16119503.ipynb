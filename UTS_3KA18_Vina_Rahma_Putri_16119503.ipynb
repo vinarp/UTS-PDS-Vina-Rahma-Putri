{
  "nbformat": 4,
  "nbformat_minor": 0,
  "metadata": {
    "colab": {
      "name": "UTS 3KA18 - Vina Rahma Putri_16119503.ipynb",
      "provenance": [],
      "collapsed_sections": [],
      "authorship_tag": "ABX9TyP3yGOZwpfwgg8ACPUzu2P7",
      "include_colab_link": true
    },
    "kernelspec": {
      "name": "python3",
      "display_name": "Python 3"
    },
    "language_info": {
      "name": "python"
    }
  },
  "cells": [
    {
      "cell_type": "markdown",
      "metadata": {
        "id": "view-in-github",
        "colab_type": "text"
      },
      "source": [
        "<a href=\"https://colab.research.google.com/github/vinarp/UTS-PDS-Vina-Rahma-Putri/blob/main/UTS_3KA18_Vina_Rahma_Putri_16119503.ipynb\" target=\"_parent\"><img src=\"https://colab.research.google.com/assets/colab-badge.svg\" alt=\"Open In Colab\"/></a>"
      ]
    },
    {
      "cell_type": "code",
      "execution_count": 50,
      "metadata": {
        "id": "gCF6GpPncWdE"
      },
      "outputs": [],
      "source": [
        "# Description: This program predicts the price of GOOG stock for a   \n",
        "               #specific day \n",
        "#              using the Machine Learning algorithm called Support \n",
        "               #Vector Regression (SVR) \n",
        "#              "
      ]
    },
    {
      "cell_type": "markdown",
      "source": [
        "Memberikan deskripsi di komentar tentang apa yang akan dilakukan kode tersebut. Dengan cara ini saya dapat melihat kembali kode saya dan tahu persis apa fungsinya."
      ],
      "metadata": {
        "id": "k9Bij-_zfWep"
      }
    },
    {
      "cell_type": "code",
      "source": [
        "#Import the libraries\n",
        "from sklearn.svm import SVR\n",
        "import numpy as np\n",
        "import pandas as pd\n",
        "import matplotlib.pyplot as plt\n",
        "from datetime import datetime\n",
        "plt.style.use('seaborn-darkgrid')"
      ],
      "metadata": {
        "id": "9OD1ZG7uc4iH"
      },
      "execution_count": 51,
      "outputs": []
    },
    {
      "cell_type": "markdown",
      "source": [
        "Sekarang impor paket / libraries untuk memudahkan penulisan program."
      ],
      "metadata": {
        "id": "RIlOrbRMgBn6"
      }
    },
    {
      "cell_type": "code",
      "source": [
        "#Load the data\n",
        "#from google.colab import files # Use to load data on Google Colab\n",
        "#uploaded = files.upload() # Use to load data on Google Colab\n",
        "df = pd.read_csv('GOOG (3).csv')\n",
        "df"
      ],
      "metadata": {
        "colab": {
          "base_uri": "https://localhost:8080/",
          "height": 676
        },
        "id": "xGte3TLvc6QM",
        "outputId": "9560cabd-2694-4c42-ceef-e0bc02ef8299"
      },
      "execution_count": 52,
      "outputs": [
        {
          "output_type": "execute_result",
          "data": {
            "text/plain": [
              "          Date         Open         High          Low        Close  \\\n",
              "0   2021-09-01  2913.000000  2936.409912  2912.290039  2916.840088   \n",
              "1   2021-09-02  2918.989990  2926.500000  2882.129883  2884.379883   \n",
              "2   2021-09-03  2882.919922  2907.540039  2870.100098  2895.500000   \n",
              "3   2021-09-07  2894.989990  2916.479980  2890.820068  2910.379883   \n",
              "4   2021-09-08  2907.870117  2911.020020  2884.000000  2897.669922   \n",
              "5   2021-09-09  2897.669922  2913.389893  2888.679932  2898.270020   \n",
              "6   2021-09-10  2908.870117  2920.379883  2834.830078  2838.419922   \n",
              "7   2021-09-13  2864.020020  2883.820068  2845.649902  2869.300049   \n",
              "8   2021-09-14  2883.219971  2894.550049  2858.110107  2868.120117   \n",
              "9   2021-09-15  2875.179932  2911.629883  2845.120117  2904.120117   \n",
              "10  2021-09-16  2902.419922  2904.000000  2868.326904  2887.469971   \n",
              "11  2021-09-17  2875.969971  2884.989990  2821.229980  2829.270020   \n",
              "12  2021-09-20  2780.003906  2787.250000  2741.060059  2780.340088   \n",
              "13  2021-09-21  2802.340088  2816.231934  2778.110107  2792.929932   \n",
              "14  2021-09-22  2801.010010  2831.669922  2789.435059  2818.770020   \n",
              "15  2021-09-23  2832.189941  2845.049072  2821.929932  2836.530029   \n",
              "16  2021-09-24  2818.919922  2858.070068  2817.010010  2852.659912   \n",
              "17  2021-09-27  2831.709961  2850.000000  2810.000000  2830.020020   \n",
              "18  2021-09-28  2781.770020  2792.129883  2714.000000  2723.679932   \n",
              "19  2021-09-29  2742.194092  2747.969971  2685.000000  2690.419922   \n",
              "\n",
              "      Adj Close   Volume  \n",
              "0   2916.840088   791200  \n",
              "1   2884.379883  1092200  \n",
              "2   2895.500000   955200  \n",
              "3   2910.379883   758500  \n",
              "4   2897.669922   774300  \n",
              "5   2898.270020   739900  \n",
              "6   2838.419922  1644800  \n",
              "7   2869.300049  1008800  \n",
              "8   2868.120117   945800  \n",
              "9   2904.120117  1032400  \n",
              "10  2887.469971  1014600  \n",
              "11  2829.270020  3002000  \n",
              "12  2780.340088  1745900  \n",
              "13  2792.929932   906500  \n",
              "14  2818.770020  1103400  \n",
              "15  2836.530029   863600  \n",
              "16  2852.659912   747500  \n",
              "17  2830.020020   942200  \n",
              "18  2723.679932  2109500  \n",
              "19  2690.419922  1316900  "
            ],
            "text/html": [
              "\n",
              "  <div id=\"df-df2f5368-5c87-42c6-ae05-0e4c978004fa\">\n",
              "    <div class=\"colab-df-container\">\n",
              "      <div>\n",
              "<style scoped>\n",
              "    .dataframe tbody tr th:only-of-type {\n",
              "        vertical-align: middle;\n",
              "    }\n",
              "\n",
              "    .dataframe tbody tr th {\n",
              "        vertical-align: top;\n",
              "    }\n",
              "\n",
              "    .dataframe thead th {\n",
              "        text-align: right;\n",
              "    }\n",
              "</style>\n",
              "<table border=\"1\" class=\"dataframe\">\n",
              "  <thead>\n",
              "    <tr style=\"text-align: right;\">\n",
              "      <th></th>\n",
              "      <th>Date</th>\n",
              "      <th>Open</th>\n",
              "      <th>High</th>\n",
              "      <th>Low</th>\n",
              "      <th>Close</th>\n",
              "      <th>Adj Close</th>\n",
              "      <th>Volume</th>\n",
              "    </tr>\n",
              "  </thead>\n",
              "  <tbody>\n",
              "    <tr>\n",
              "      <th>0</th>\n",
              "      <td>2021-09-01</td>\n",
              "      <td>2913.000000</td>\n",
              "      <td>2936.409912</td>\n",
              "      <td>2912.290039</td>\n",
              "      <td>2916.840088</td>\n",
              "      <td>2916.840088</td>\n",
              "      <td>791200</td>\n",
              "    </tr>\n",
              "    <tr>\n",
              "      <th>1</th>\n",
              "      <td>2021-09-02</td>\n",
              "      <td>2918.989990</td>\n",
              "      <td>2926.500000</td>\n",
              "      <td>2882.129883</td>\n",
              "      <td>2884.379883</td>\n",
              "      <td>2884.379883</td>\n",
              "      <td>1092200</td>\n",
              "    </tr>\n",
              "    <tr>\n",
              "      <th>2</th>\n",
              "      <td>2021-09-03</td>\n",
              "      <td>2882.919922</td>\n",
              "      <td>2907.540039</td>\n",
              "      <td>2870.100098</td>\n",
              "      <td>2895.500000</td>\n",
              "      <td>2895.500000</td>\n",
              "      <td>955200</td>\n",
              "    </tr>\n",
              "    <tr>\n",
              "      <th>3</th>\n",
              "      <td>2021-09-07</td>\n",
              "      <td>2894.989990</td>\n",
              "      <td>2916.479980</td>\n",
              "      <td>2890.820068</td>\n",
              "      <td>2910.379883</td>\n",
              "      <td>2910.379883</td>\n",
              "      <td>758500</td>\n",
              "    </tr>\n",
              "    <tr>\n",
              "      <th>4</th>\n",
              "      <td>2021-09-08</td>\n",
              "      <td>2907.870117</td>\n",
              "      <td>2911.020020</td>\n",
              "      <td>2884.000000</td>\n",
              "      <td>2897.669922</td>\n",
              "      <td>2897.669922</td>\n",
              "      <td>774300</td>\n",
              "    </tr>\n",
              "    <tr>\n",
              "      <th>5</th>\n",
              "      <td>2021-09-09</td>\n",
              "      <td>2897.669922</td>\n",
              "      <td>2913.389893</td>\n",
              "      <td>2888.679932</td>\n",
              "      <td>2898.270020</td>\n",
              "      <td>2898.270020</td>\n",
              "      <td>739900</td>\n",
              "    </tr>\n",
              "    <tr>\n",
              "      <th>6</th>\n",
              "      <td>2021-09-10</td>\n",
              "      <td>2908.870117</td>\n",
              "      <td>2920.379883</td>\n",
              "      <td>2834.830078</td>\n",
              "      <td>2838.419922</td>\n",
              "      <td>2838.419922</td>\n",
              "      <td>1644800</td>\n",
              "    </tr>\n",
              "    <tr>\n",
              "      <th>7</th>\n",
              "      <td>2021-09-13</td>\n",
              "      <td>2864.020020</td>\n",
              "      <td>2883.820068</td>\n",
              "      <td>2845.649902</td>\n",
              "      <td>2869.300049</td>\n",
              "      <td>2869.300049</td>\n",
              "      <td>1008800</td>\n",
              "    </tr>\n",
              "    <tr>\n",
              "      <th>8</th>\n",
              "      <td>2021-09-14</td>\n",
              "      <td>2883.219971</td>\n",
              "      <td>2894.550049</td>\n",
              "      <td>2858.110107</td>\n",
              "      <td>2868.120117</td>\n",
              "      <td>2868.120117</td>\n",
              "      <td>945800</td>\n",
              "    </tr>\n",
              "    <tr>\n",
              "      <th>9</th>\n",
              "      <td>2021-09-15</td>\n",
              "      <td>2875.179932</td>\n",
              "      <td>2911.629883</td>\n",
              "      <td>2845.120117</td>\n",
              "      <td>2904.120117</td>\n",
              "      <td>2904.120117</td>\n",
              "      <td>1032400</td>\n",
              "    </tr>\n",
              "    <tr>\n",
              "      <th>10</th>\n",
              "      <td>2021-09-16</td>\n",
              "      <td>2902.419922</td>\n",
              "      <td>2904.000000</td>\n",
              "      <td>2868.326904</td>\n",
              "      <td>2887.469971</td>\n",
              "      <td>2887.469971</td>\n",
              "      <td>1014600</td>\n",
              "    </tr>\n",
              "    <tr>\n",
              "      <th>11</th>\n",
              "      <td>2021-09-17</td>\n",
              "      <td>2875.969971</td>\n",
              "      <td>2884.989990</td>\n",
              "      <td>2821.229980</td>\n",
              "      <td>2829.270020</td>\n",
              "      <td>2829.270020</td>\n",
              "      <td>3002000</td>\n",
              "    </tr>\n",
              "    <tr>\n",
              "      <th>12</th>\n",
              "      <td>2021-09-20</td>\n",
              "      <td>2780.003906</td>\n",
              "      <td>2787.250000</td>\n",
              "      <td>2741.060059</td>\n",
              "      <td>2780.340088</td>\n",
              "      <td>2780.340088</td>\n",
              "      <td>1745900</td>\n",
              "    </tr>\n",
              "    <tr>\n",
              "      <th>13</th>\n",
              "      <td>2021-09-21</td>\n",
              "      <td>2802.340088</td>\n",
              "      <td>2816.231934</td>\n",
              "      <td>2778.110107</td>\n",
              "      <td>2792.929932</td>\n",
              "      <td>2792.929932</td>\n",
              "      <td>906500</td>\n",
              "    </tr>\n",
              "    <tr>\n",
              "      <th>14</th>\n",
              "      <td>2021-09-22</td>\n",
              "      <td>2801.010010</td>\n",
              "      <td>2831.669922</td>\n",
              "      <td>2789.435059</td>\n",
              "      <td>2818.770020</td>\n",
              "      <td>2818.770020</td>\n",
              "      <td>1103400</td>\n",
              "    </tr>\n",
              "    <tr>\n",
              "      <th>15</th>\n",
              "      <td>2021-09-23</td>\n",
              "      <td>2832.189941</td>\n",
              "      <td>2845.049072</td>\n",
              "      <td>2821.929932</td>\n",
              "      <td>2836.530029</td>\n",
              "      <td>2836.530029</td>\n",
              "      <td>863600</td>\n",
              "    </tr>\n",
              "    <tr>\n",
              "      <th>16</th>\n",
              "      <td>2021-09-24</td>\n",
              "      <td>2818.919922</td>\n",
              "      <td>2858.070068</td>\n",
              "      <td>2817.010010</td>\n",
              "      <td>2852.659912</td>\n",
              "      <td>2852.659912</td>\n",
              "      <td>747500</td>\n",
              "    </tr>\n",
              "    <tr>\n",
              "      <th>17</th>\n",
              "      <td>2021-09-27</td>\n",
              "      <td>2831.709961</td>\n",
              "      <td>2850.000000</td>\n",
              "      <td>2810.000000</td>\n",
              "      <td>2830.020020</td>\n",
              "      <td>2830.020020</td>\n",
              "      <td>942200</td>\n",
              "    </tr>\n",
              "    <tr>\n",
              "      <th>18</th>\n",
              "      <td>2021-09-28</td>\n",
              "      <td>2781.770020</td>\n",
              "      <td>2792.129883</td>\n",
              "      <td>2714.000000</td>\n",
              "      <td>2723.679932</td>\n",
              "      <td>2723.679932</td>\n",
              "      <td>2109500</td>\n",
              "    </tr>\n",
              "    <tr>\n",
              "      <th>19</th>\n",
              "      <td>2021-09-29</td>\n",
              "      <td>2742.194092</td>\n",
              "      <td>2747.969971</td>\n",
              "      <td>2685.000000</td>\n",
              "      <td>2690.419922</td>\n",
              "      <td>2690.419922</td>\n",
              "      <td>1316900</td>\n",
              "    </tr>\n",
              "  </tbody>\n",
              "</table>\n",
              "</div>\n",
              "      <button class=\"colab-df-convert\" onclick=\"convertToInteractive('df-df2f5368-5c87-42c6-ae05-0e4c978004fa')\"\n",
              "              title=\"Convert this dataframe to an interactive table.\"\n",
              "              style=\"display:none;\">\n",
              "        \n",
              "  <svg xmlns=\"http://www.w3.org/2000/svg\" height=\"24px\"viewBox=\"0 0 24 24\"\n",
              "       width=\"24px\">\n",
              "    <path d=\"M0 0h24v24H0V0z\" fill=\"none\"/>\n",
              "    <path d=\"M18.56 5.44l.94 2.06.94-2.06 2.06-.94-2.06-.94-.94-2.06-.94 2.06-2.06.94zm-11 1L8.5 8.5l.94-2.06 2.06-.94-2.06-.94L8.5 2.5l-.94 2.06-2.06.94zm10 10l.94 2.06.94-2.06 2.06-.94-2.06-.94-.94-2.06-.94 2.06-2.06.94z\"/><path d=\"M17.41 7.96l-1.37-1.37c-.4-.4-.92-.59-1.43-.59-.52 0-1.04.2-1.43.59L10.3 9.45l-7.72 7.72c-.78.78-.78 2.05 0 2.83L4 21.41c.39.39.9.59 1.41.59.51 0 1.02-.2 1.41-.59l7.78-7.78 2.81-2.81c.8-.78.8-2.07 0-2.86zM5.41 20L4 18.59l7.72-7.72 1.47 1.35L5.41 20z\"/>\n",
              "  </svg>\n",
              "      </button>\n",
              "      \n",
              "  <style>\n",
              "    .colab-df-container {\n",
              "      display:flex;\n",
              "      flex-wrap:wrap;\n",
              "      gap: 12px;\n",
              "    }\n",
              "\n",
              "    .colab-df-convert {\n",
              "      background-color: #E8F0FE;\n",
              "      border: none;\n",
              "      border-radius: 50%;\n",
              "      cursor: pointer;\n",
              "      display: none;\n",
              "      fill: #1967D2;\n",
              "      height: 32px;\n",
              "      padding: 0 0 0 0;\n",
              "      width: 32px;\n",
              "    }\n",
              "\n",
              "    .colab-df-convert:hover {\n",
              "      background-color: #E2EBFA;\n",
              "      box-shadow: 0px 1px 2px rgba(60, 64, 67, 0.3), 0px 1px 3px 1px rgba(60, 64, 67, 0.15);\n",
              "      fill: #174EA6;\n",
              "    }\n",
              "\n",
              "    [theme=dark] .colab-df-convert {\n",
              "      background-color: #3B4455;\n",
              "      fill: #D2E3FC;\n",
              "    }\n",
              "\n",
              "    [theme=dark] .colab-df-convert:hover {\n",
              "      background-color: #434B5C;\n",
              "      box-shadow: 0px 1px 3px 1px rgba(0, 0, 0, 0.15);\n",
              "      filter: drop-shadow(0px 1px 2px rgba(0, 0, 0, 0.3));\n",
              "      fill: #FFFFFF;\n",
              "    }\n",
              "  </style>\n",
              "\n",
              "      <script>\n",
              "        const buttonEl =\n",
              "          document.querySelector('#df-df2f5368-5c87-42c6-ae05-0e4c978004fa button.colab-df-convert');\n",
              "        buttonEl.style.display =\n",
              "          google.colab.kernel.accessAllowed ? 'block' : 'none';\n",
              "\n",
              "        async function convertToInteractive(key) {\n",
              "          const element = document.querySelector('#df-df2f5368-5c87-42c6-ae05-0e4c978004fa');\n",
              "          const dataTable =\n",
              "            await google.colab.kernel.invokeFunction('convertToInteractive',\n",
              "                                                     [key], {});\n",
              "          if (!dataTable) return;\n",
              "\n",
              "          const docLinkHtml = 'Like what you see? Visit the ' +\n",
              "            '<a target=\"_blank\" href=https://colab.research.google.com/notebooks/data_table.ipynb>data table notebook</a>'\n",
              "            + ' to learn more about interactive tables.';\n",
              "          element.innerHTML = '';\n",
              "          dataTable['output_type'] = 'display_data';\n",
              "          await google.colab.output.renderOutput(dataTable, element);\n",
              "          const docLink = document.createElement('div');\n",
              "          docLink.innerHTML = docLinkHtml;\n",
              "          element.appendChild(docLink);\n",
              "        }\n",
              "      </script>\n",
              "    </div>\n",
              "  </div>\n",
              "  "
            ]
          },
          "metadata": {},
          "execution_count": 52
        }
      ]
    },
    {
      "cell_type": "markdown",
      "source": [
        "saya akan memuat data frame saham Google (GOOG) yang saya dapatkan dari finance.yahoo.com.\n",
        "Ini adalah data dari Yahoo selama 30 hari terakhir, 5–1–2019 hingga 5–30–2019."
      ],
      "metadata": {
        "id": "tOQVRkUCgKYG"
      }
    },
    {
      "cell_type": "code",
      "source": [
        "actual_price = df.tail(1)\n",
        "actual_price"
      ],
      "metadata": {
        "colab": {
          "base_uri": "https://localhost:8080/",
          "height": 81
        },
        "id": "ClEaOABadNqZ",
        "outputId": "e970c2f4-10c7-431a-f40b-ffdfd4346416"
      },
      "execution_count": 53,
      "outputs": [
        {
          "output_type": "execute_result",
          "data": {
            "text/plain": [
              "          Date         Open         High     Low        Close    Adj Close  \\\n",
              "19  2021-09-29  2742.194092  2747.969971  2685.0  2690.419922  2690.419922   \n",
              "\n",
              "     Volume  \n",
              "19  1316900  "
            ],
            "text/html": [
              "\n",
              "  <div id=\"df-2f1744e6-d900-42c4-bec0-e80262f19918\">\n",
              "    <div class=\"colab-df-container\">\n",
              "      <div>\n",
              "<style scoped>\n",
              "    .dataframe tbody tr th:only-of-type {\n",
              "        vertical-align: middle;\n",
              "    }\n",
              "\n",
              "    .dataframe tbody tr th {\n",
              "        vertical-align: top;\n",
              "    }\n",
              "\n",
              "    .dataframe thead th {\n",
              "        text-align: right;\n",
              "    }\n",
              "</style>\n",
              "<table border=\"1\" class=\"dataframe\">\n",
              "  <thead>\n",
              "    <tr style=\"text-align: right;\">\n",
              "      <th></th>\n",
              "      <th>Date</th>\n",
              "      <th>Open</th>\n",
              "      <th>High</th>\n",
              "      <th>Low</th>\n",
              "      <th>Close</th>\n",
              "      <th>Adj Close</th>\n",
              "      <th>Volume</th>\n",
              "    </tr>\n",
              "  </thead>\n",
              "  <tbody>\n",
              "    <tr>\n",
              "      <th>19</th>\n",
              "      <td>2021-09-29</td>\n",
              "      <td>2742.194092</td>\n",
              "      <td>2747.969971</td>\n",
              "      <td>2685.0</td>\n",
              "      <td>2690.419922</td>\n",
              "      <td>2690.419922</td>\n",
              "      <td>1316900</td>\n",
              "    </tr>\n",
              "  </tbody>\n",
              "</table>\n",
              "</div>\n",
              "      <button class=\"colab-df-convert\" onclick=\"convertToInteractive('df-2f1744e6-d900-42c4-bec0-e80262f19918')\"\n",
              "              title=\"Convert this dataframe to an interactive table.\"\n",
              "              style=\"display:none;\">\n",
              "        \n",
              "  <svg xmlns=\"http://www.w3.org/2000/svg\" height=\"24px\"viewBox=\"0 0 24 24\"\n",
              "       width=\"24px\">\n",
              "    <path d=\"M0 0h24v24H0V0z\" fill=\"none\"/>\n",
              "    <path d=\"M18.56 5.44l.94 2.06.94-2.06 2.06-.94-2.06-.94-.94-2.06-.94 2.06-2.06.94zm-11 1L8.5 8.5l.94-2.06 2.06-.94-2.06-.94L8.5 2.5l-.94 2.06-2.06.94zm10 10l.94 2.06.94-2.06 2.06-.94-2.06-.94-.94-2.06-.94 2.06-2.06.94z\"/><path d=\"M17.41 7.96l-1.37-1.37c-.4-.4-.92-.59-1.43-.59-.52 0-1.04.2-1.43.59L10.3 9.45l-7.72 7.72c-.78.78-.78 2.05 0 2.83L4 21.41c.39.39.9.59 1.41.59.51 0 1.02-.2 1.41-.59l7.78-7.78 2.81-2.81c.8-.78.8-2.07 0-2.86zM5.41 20L4 18.59l7.72-7.72 1.47 1.35L5.41 20z\"/>\n",
              "  </svg>\n",
              "      </button>\n",
              "      \n",
              "  <style>\n",
              "    .colab-df-container {\n",
              "      display:flex;\n",
              "      flex-wrap:wrap;\n",
              "      gap: 12px;\n",
              "    }\n",
              "\n",
              "    .colab-df-convert {\n",
              "      background-color: #E8F0FE;\n",
              "      border: none;\n",
              "      border-radius: 50%;\n",
              "      cursor: pointer;\n",
              "      display: none;\n",
              "      fill: #1967D2;\n",
              "      height: 32px;\n",
              "      padding: 0 0 0 0;\n",
              "      width: 32px;\n",
              "    }\n",
              "\n",
              "    .colab-df-convert:hover {\n",
              "      background-color: #E2EBFA;\n",
              "      box-shadow: 0px 1px 2px rgba(60, 64, 67, 0.3), 0px 1px 3px 1px rgba(60, 64, 67, 0.15);\n",
              "      fill: #174EA6;\n",
              "    }\n",
              "\n",
              "    [theme=dark] .colab-df-convert {\n",
              "      background-color: #3B4455;\n",
              "      fill: #D2E3FC;\n",
              "    }\n",
              "\n",
              "    [theme=dark] .colab-df-convert:hover {\n",
              "      background-color: #434B5C;\n",
              "      box-shadow: 0px 1px 3px 1px rgba(0, 0, 0, 0.15);\n",
              "      filter: drop-shadow(0px 1px 2px rgba(0, 0, 0, 0.3));\n",
              "      fill: #FFFFFF;\n",
              "    }\n",
              "  </style>\n",
              "\n",
              "      <script>\n",
              "        const buttonEl =\n",
              "          document.querySelector('#df-2f1744e6-d900-42c4-bec0-e80262f19918 button.colab-df-convert');\n",
              "        buttonEl.style.display =\n",
              "          google.colab.kernel.accessAllowed ? 'block' : 'none';\n",
              "\n",
              "        async function convertToInteractive(key) {\n",
              "          const element = document.querySelector('#df-2f1744e6-d900-42c4-bec0-e80262f19918');\n",
              "          const dataTable =\n",
              "            await google.colab.kernel.invokeFunction('convertToInteractive',\n",
              "                                                     [key], {});\n",
              "          if (!dataTable) return;\n",
              "\n",
              "          const docLinkHtml = 'Like what you see? Visit the ' +\n",
              "            '<a target=\"_blank\" href=https://colab.research.google.com/notebooks/data_table.ipynb>data table notebook</a>'\n",
              "            + ' to learn more about interactive tables.';\n",
              "          element.innerHTML = '';\n",
              "          dataTable['output_type'] = 'display_data';\n",
              "          await google.colab.output.renderOutput(dataTable, element);\n",
              "          const docLink = document.createElement('div');\n",
              "          docLink.innerHTML = docLinkHtml;\n",
              "          element.appendChild(docLink);\n",
              "        }\n",
              "      </script>\n",
              "    </div>\n",
              "  </div>\n",
              "  "
            ]
          },
          "metadata": {},
          "execution_count": 53
        }
      ]
    },
    {
      "cell_type": "markdown",
      "source": [
        "cetak baris data terakhir. Harga Penutupan Penyesuaian adalah 2690.419922"
      ],
      "metadata": {
        "id": "OyRdMB-bg4yC"
      }
    },
    {
      "cell_type": "code",
      "source": [
        "df = df.head(len(df)-1)\n",
        "df"
      ],
      "metadata": {
        "colab": {
          "base_uri": "https://localhost:8080/",
          "height": 645
        },
        "id": "JUEijNYLdTON",
        "outputId": "1fcf0afb-1cd8-4a18-ab2c-b8e9f4238b76"
      },
      "execution_count": 54,
      "outputs": [
        {
          "output_type": "execute_result",
          "data": {
            "text/plain": [
              "          Date         Open         High          Low        Close  \\\n",
              "0   2021-09-01  2913.000000  2936.409912  2912.290039  2916.840088   \n",
              "1   2021-09-02  2918.989990  2926.500000  2882.129883  2884.379883   \n",
              "2   2021-09-03  2882.919922  2907.540039  2870.100098  2895.500000   \n",
              "3   2021-09-07  2894.989990  2916.479980  2890.820068  2910.379883   \n",
              "4   2021-09-08  2907.870117  2911.020020  2884.000000  2897.669922   \n",
              "5   2021-09-09  2897.669922  2913.389893  2888.679932  2898.270020   \n",
              "6   2021-09-10  2908.870117  2920.379883  2834.830078  2838.419922   \n",
              "7   2021-09-13  2864.020020  2883.820068  2845.649902  2869.300049   \n",
              "8   2021-09-14  2883.219971  2894.550049  2858.110107  2868.120117   \n",
              "9   2021-09-15  2875.179932  2911.629883  2845.120117  2904.120117   \n",
              "10  2021-09-16  2902.419922  2904.000000  2868.326904  2887.469971   \n",
              "11  2021-09-17  2875.969971  2884.989990  2821.229980  2829.270020   \n",
              "12  2021-09-20  2780.003906  2787.250000  2741.060059  2780.340088   \n",
              "13  2021-09-21  2802.340088  2816.231934  2778.110107  2792.929932   \n",
              "14  2021-09-22  2801.010010  2831.669922  2789.435059  2818.770020   \n",
              "15  2021-09-23  2832.189941  2845.049072  2821.929932  2836.530029   \n",
              "16  2021-09-24  2818.919922  2858.070068  2817.010010  2852.659912   \n",
              "17  2021-09-27  2831.709961  2850.000000  2810.000000  2830.020020   \n",
              "18  2021-09-28  2781.770020  2792.129883  2714.000000  2723.679932   \n",
              "\n",
              "      Adj Close   Volume  \n",
              "0   2916.840088   791200  \n",
              "1   2884.379883  1092200  \n",
              "2   2895.500000   955200  \n",
              "3   2910.379883   758500  \n",
              "4   2897.669922   774300  \n",
              "5   2898.270020   739900  \n",
              "6   2838.419922  1644800  \n",
              "7   2869.300049  1008800  \n",
              "8   2868.120117   945800  \n",
              "9   2904.120117  1032400  \n",
              "10  2887.469971  1014600  \n",
              "11  2829.270020  3002000  \n",
              "12  2780.340088  1745900  \n",
              "13  2792.929932   906500  \n",
              "14  2818.770020  1103400  \n",
              "15  2836.530029   863600  \n",
              "16  2852.659912   747500  \n",
              "17  2830.020020   942200  \n",
              "18  2723.679932  2109500  "
            ],
            "text/html": [
              "\n",
              "  <div id=\"df-753ab758-2544-4aec-8099-3cc260d22921\">\n",
              "    <div class=\"colab-df-container\">\n",
              "      <div>\n",
              "<style scoped>\n",
              "    .dataframe tbody tr th:only-of-type {\n",
              "        vertical-align: middle;\n",
              "    }\n",
              "\n",
              "    .dataframe tbody tr th {\n",
              "        vertical-align: top;\n",
              "    }\n",
              "\n",
              "    .dataframe thead th {\n",
              "        text-align: right;\n",
              "    }\n",
              "</style>\n",
              "<table border=\"1\" class=\"dataframe\">\n",
              "  <thead>\n",
              "    <tr style=\"text-align: right;\">\n",
              "      <th></th>\n",
              "      <th>Date</th>\n",
              "      <th>Open</th>\n",
              "      <th>High</th>\n",
              "      <th>Low</th>\n",
              "      <th>Close</th>\n",
              "      <th>Adj Close</th>\n",
              "      <th>Volume</th>\n",
              "    </tr>\n",
              "  </thead>\n",
              "  <tbody>\n",
              "    <tr>\n",
              "      <th>0</th>\n",
              "      <td>2021-09-01</td>\n",
              "      <td>2913.000000</td>\n",
              "      <td>2936.409912</td>\n",
              "      <td>2912.290039</td>\n",
              "      <td>2916.840088</td>\n",
              "      <td>2916.840088</td>\n",
              "      <td>791200</td>\n",
              "    </tr>\n",
              "    <tr>\n",
              "      <th>1</th>\n",
              "      <td>2021-09-02</td>\n",
              "      <td>2918.989990</td>\n",
              "      <td>2926.500000</td>\n",
              "      <td>2882.129883</td>\n",
              "      <td>2884.379883</td>\n",
              "      <td>2884.379883</td>\n",
              "      <td>1092200</td>\n",
              "    </tr>\n",
              "    <tr>\n",
              "      <th>2</th>\n",
              "      <td>2021-09-03</td>\n",
              "      <td>2882.919922</td>\n",
              "      <td>2907.540039</td>\n",
              "      <td>2870.100098</td>\n",
              "      <td>2895.500000</td>\n",
              "      <td>2895.500000</td>\n",
              "      <td>955200</td>\n",
              "    </tr>\n",
              "    <tr>\n",
              "      <th>3</th>\n",
              "      <td>2021-09-07</td>\n",
              "      <td>2894.989990</td>\n",
              "      <td>2916.479980</td>\n",
              "      <td>2890.820068</td>\n",
              "      <td>2910.379883</td>\n",
              "      <td>2910.379883</td>\n",
              "      <td>758500</td>\n",
              "    </tr>\n",
              "    <tr>\n",
              "      <th>4</th>\n",
              "      <td>2021-09-08</td>\n",
              "      <td>2907.870117</td>\n",
              "      <td>2911.020020</td>\n",
              "      <td>2884.000000</td>\n",
              "      <td>2897.669922</td>\n",
              "      <td>2897.669922</td>\n",
              "      <td>774300</td>\n",
              "    </tr>\n",
              "    <tr>\n",
              "      <th>5</th>\n",
              "      <td>2021-09-09</td>\n",
              "      <td>2897.669922</td>\n",
              "      <td>2913.389893</td>\n",
              "      <td>2888.679932</td>\n",
              "      <td>2898.270020</td>\n",
              "      <td>2898.270020</td>\n",
              "      <td>739900</td>\n",
              "    </tr>\n",
              "    <tr>\n",
              "      <th>6</th>\n",
              "      <td>2021-09-10</td>\n",
              "      <td>2908.870117</td>\n",
              "      <td>2920.379883</td>\n",
              "      <td>2834.830078</td>\n",
              "      <td>2838.419922</td>\n",
              "      <td>2838.419922</td>\n",
              "      <td>1644800</td>\n",
              "    </tr>\n",
              "    <tr>\n",
              "      <th>7</th>\n",
              "      <td>2021-09-13</td>\n",
              "      <td>2864.020020</td>\n",
              "      <td>2883.820068</td>\n",
              "      <td>2845.649902</td>\n",
              "      <td>2869.300049</td>\n",
              "      <td>2869.300049</td>\n",
              "      <td>1008800</td>\n",
              "    </tr>\n",
              "    <tr>\n",
              "      <th>8</th>\n",
              "      <td>2021-09-14</td>\n",
              "      <td>2883.219971</td>\n",
              "      <td>2894.550049</td>\n",
              "      <td>2858.110107</td>\n",
              "      <td>2868.120117</td>\n",
              "      <td>2868.120117</td>\n",
              "      <td>945800</td>\n",
              "    </tr>\n",
              "    <tr>\n",
              "      <th>9</th>\n",
              "      <td>2021-09-15</td>\n",
              "      <td>2875.179932</td>\n",
              "      <td>2911.629883</td>\n",
              "      <td>2845.120117</td>\n",
              "      <td>2904.120117</td>\n",
              "      <td>2904.120117</td>\n",
              "      <td>1032400</td>\n",
              "    </tr>\n",
              "    <tr>\n",
              "      <th>10</th>\n",
              "      <td>2021-09-16</td>\n",
              "      <td>2902.419922</td>\n",
              "      <td>2904.000000</td>\n",
              "      <td>2868.326904</td>\n",
              "      <td>2887.469971</td>\n",
              "      <td>2887.469971</td>\n",
              "      <td>1014600</td>\n",
              "    </tr>\n",
              "    <tr>\n",
              "      <th>11</th>\n",
              "      <td>2021-09-17</td>\n",
              "      <td>2875.969971</td>\n",
              "      <td>2884.989990</td>\n",
              "      <td>2821.229980</td>\n",
              "      <td>2829.270020</td>\n",
              "      <td>2829.270020</td>\n",
              "      <td>3002000</td>\n",
              "    </tr>\n",
              "    <tr>\n",
              "      <th>12</th>\n",
              "      <td>2021-09-20</td>\n",
              "      <td>2780.003906</td>\n",
              "      <td>2787.250000</td>\n",
              "      <td>2741.060059</td>\n",
              "      <td>2780.340088</td>\n",
              "      <td>2780.340088</td>\n",
              "      <td>1745900</td>\n",
              "    </tr>\n",
              "    <tr>\n",
              "      <th>13</th>\n",
              "      <td>2021-09-21</td>\n",
              "      <td>2802.340088</td>\n",
              "      <td>2816.231934</td>\n",
              "      <td>2778.110107</td>\n",
              "      <td>2792.929932</td>\n",
              "      <td>2792.929932</td>\n",
              "      <td>906500</td>\n",
              "    </tr>\n",
              "    <tr>\n",
              "      <th>14</th>\n",
              "      <td>2021-09-22</td>\n",
              "      <td>2801.010010</td>\n",
              "      <td>2831.669922</td>\n",
              "      <td>2789.435059</td>\n",
              "      <td>2818.770020</td>\n",
              "      <td>2818.770020</td>\n",
              "      <td>1103400</td>\n",
              "    </tr>\n",
              "    <tr>\n",
              "      <th>15</th>\n",
              "      <td>2021-09-23</td>\n",
              "      <td>2832.189941</td>\n",
              "      <td>2845.049072</td>\n",
              "      <td>2821.929932</td>\n",
              "      <td>2836.530029</td>\n",
              "      <td>2836.530029</td>\n",
              "      <td>863600</td>\n",
              "    </tr>\n",
              "    <tr>\n",
              "      <th>16</th>\n",
              "      <td>2021-09-24</td>\n",
              "      <td>2818.919922</td>\n",
              "      <td>2858.070068</td>\n",
              "      <td>2817.010010</td>\n",
              "      <td>2852.659912</td>\n",
              "      <td>2852.659912</td>\n",
              "      <td>747500</td>\n",
              "    </tr>\n",
              "    <tr>\n",
              "      <th>17</th>\n",
              "      <td>2021-09-27</td>\n",
              "      <td>2831.709961</td>\n",
              "      <td>2850.000000</td>\n",
              "      <td>2810.000000</td>\n",
              "      <td>2830.020020</td>\n",
              "      <td>2830.020020</td>\n",
              "      <td>942200</td>\n",
              "    </tr>\n",
              "    <tr>\n",
              "      <th>18</th>\n",
              "      <td>2021-09-28</td>\n",
              "      <td>2781.770020</td>\n",
              "      <td>2792.129883</td>\n",
              "      <td>2714.000000</td>\n",
              "      <td>2723.679932</td>\n",
              "      <td>2723.679932</td>\n",
              "      <td>2109500</td>\n",
              "    </tr>\n",
              "  </tbody>\n",
              "</table>\n",
              "</div>\n",
              "      <button class=\"colab-df-convert\" onclick=\"convertToInteractive('df-753ab758-2544-4aec-8099-3cc260d22921')\"\n",
              "              title=\"Convert this dataframe to an interactive table.\"\n",
              "              style=\"display:none;\">\n",
              "        \n",
              "  <svg xmlns=\"http://www.w3.org/2000/svg\" height=\"24px\"viewBox=\"0 0 24 24\"\n",
              "       width=\"24px\">\n",
              "    <path d=\"M0 0h24v24H0V0z\" fill=\"none\"/>\n",
              "    <path d=\"M18.56 5.44l.94 2.06.94-2.06 2.06-.94-2.06-.94-.94-2.06-.94 2.06-2.06.94zm-11 1L8.5 8.5l.94-2.06 2.06-.94-2.06-.94L8.5 2.5l-.94 2.06-2.06.94zm10 10l.94 2.06.94-2.06 2.06-.94-2.06-.94-.94-2.06-.94 2.06-2.06.94z\"/><path d=\"M17.41 7.96l-1.37-1.37c-.4-.4-.92-.59-1.43-.59-.52 0-1.04.2-1.43.59L10.3 9.45l-7.72 7.72c-.78.78-.78 2.05 0 2.83L4 21.41c.39.39.9.59 1.41.59.51 0 1.02-.2 1.41-.59l7.78-7.78 2.81-2.81c.8-.78.8-2.07 0-2.86zM5.41 20L4 18.59l7.72-7.72 1.47 1.35L5.41 20z\"/>\n",
              "  </svg>\n",
              "      </button>\n",
              "      \n",
              "  <style>\n",
              "    .colab-df-container {\n",
              "      display:flex;\n",
              "      flex-wrap:wrap;\n",
              "      gap: 12px;\n",
              "    }\n",
              "\n",
              "    .colab-df-convert {\n",
              "      background-color: #E8F0FE;\n",
              "      border: none;\n",
              "      border-radius: 50%;\n",
              "      cursor: pointer;\n",
              "      display: none;\n",
              "      fill: #1967D2;\n",
              "      height: 32px;\n",
              "      padding: 0 0 0 0;\n",
              "      width: 32px;\n",
              "    }\n",
              "\n",
              "    .colab-df-convert:hover {\n",
              "      background-color: #E2EBFA;\n",
              "      box-shadow: 0px 1px 2px rgba(60, 64, 67, 0.3), 0px 1px 3px 1px rgba(60, 64, 67, 0.15);\n",
              "      fill: #174EA6;\n",
              "    }\n",
              "\n",
              "    [theme=dark] .colab-df-convert {\n",
              "      background-color: #3B4455;\n",
              "      fill: #D2E3FC;\n",
              "    }\n",
              "\n",
              "    [theme=dark] .colab-df-convert:hover {\n",
              "      background-color: #434B5C;\n",
              "      box-shadow: 0px 1px 3px 1px rgba(0, 0, 0, 0.15);\n",
              "      filter: drop-shadow(0px 1px 2px rgba(0, 0, 0, 0.3));\n",
              "      fill: #FFFFFF;\n",
              "    }\n",
              "  </style>\n",
              "\n",
              "      <script>\n",
              "        const buttonEl =\n",
              "          document.querySelector('#df-753ab758-2544-4aec-8099-3cc260d22921 button.colab-df-convert');\n",
              "        buttonEl.style.display =\n",
              "          google.colab.kernel.accessAllowed ? 'block' : 'none';\n",
              "\n",
              "        async function convertToInteractive(key) {\n",
              "          const element = document.querySelector('#df-753ab758-2544-4aec-8099-3cc260d22921');\n",
              "          const dataTable =\n",
              "            await google.colab.kernel.invokeFunction('convertToInteractive',\n",
              "                                                     [key], {});\n",
              "          if (!dataTable) return;\n",
              "\n",
              "          const docLinkHtml = 'Like what you see? Visit the ' +\n",
              "            '<a target=\"_blank\" href=https://colab.research.google.com/notebooks/data_table.ipynb>data table notebook</a>'\n",
              "            + ' to learn more about interactive tables.';\n",
              "          element.innerHTML = '';\n",
              "          dataTable['output_type'] = 'display_data';\n",
              "          await google.colab.output.renderOutput(dataTable, element);\n",
              "          const docLink = document.createElement('div');\n",
              "          docLink.innerHTML = docLinkHtml;\n",
              "          element.appendChild(docLink);\n",
              "        }\n",
              "      </script>\n",
              "    </div>\n",
              "  </div>\n",
              "  "
            ]
          },
          "metadata": {},
          "execution_count": 54
        }
      ]
    },
    {
      "cell_type": "markdown",
      "source": [
        "Siapkan data. Buat kembali data frame dengan mendapatkan semua data kecuali baris terakhir yang akan saya gunakan untuk menguji model nanti, dan simpan data baru dengan baris terakhir ke 'df'"
      ],
      "metadata": {
        "id": "VLNNgzaWhQab"
      }
    },
    {
      "cell_type": "code",
      "source": [
        "#Create the lists / X and y data set\n",
        "days = list()\n",
        "adj_close_prices = list()"
      ],
      "metadata": {
        "id": "JF1mkI5bdU9R"
      },
      "execution_count": 55,
      "outputs": []
    },
    {
      "cell_type": "markdown",
      "source": [
        "Buat variabel yang akan digunakan sebagai kumpulan data independen dan dependen dengan menyetelnya sama dengan daftar kosong."
      ],
      "metadata": {
        "id": "PA7iHY93hogG"
      }
    },
    {
      "cell_type": "code",
      "source": [
        "df_days = df.loc[:, 'Date']\n",
        "df_adj_close = df.loc[:, 'Adj Close']"
      ],
      "metadata": {
        "id": "X5ivoEUddXe_"
      },
      "execution_count": 56,
      "outputs": []
    },
    {
      "cell_type": "markdown",
      "source": [
        "Dapatkan semua baris dari kolom Tanggal simpan ke dalam variabel yang disebut 'df_days' dan dapatkan semua baris dari kolom Adj Close dan simpan datanya ke dalam variabel."
      ],
      "metadata": {
        "id": "tA-N6qwzh6GP"
      }
    },
    {
      "cell_type": "code",
      "source": [
        "#Create the independent data set\n",
        "for day in df_days:\n",
        "   days.append([int(str((day.split('-')[2]).replace('0','')))])\n",
        "\n",
        "#Create the dependent data set\n",
        "for adj_close_price in df_adj_close:\n",
        "   adj_close_prices.append( float(adj_close_price) )"
      ],
      "metadata": {
        "id": "mps4rXeQdZVQ"
      },
      "execution_count": 57,
      "outputs": []
    },
    {
      "cell_type": "markdown",
      "source": [
        "Buat kumpulan data independen 'X' dan simpan data dalam variabel 'hari'."
      ],
      "metadata": {
        "id": "j-kSdIo1iFUq"
      }
    },
    {
      "cell_type": "code",
      "source": [
        "print(days)"
      ],
      "metadata": {
        "colab": {
          "base_uri": "https://localhost:8080/"
        },
        "id": "7Hps2prsdba2",
        "outputId": "01249a6d-cac4-40cd-edc1-c1be8e727c08"
      },
      "execution_count": 58,
      "outputs": [
        {
          "output_type": "stream",
          "name": "stdout",
          "text": [
            "[[1], [2], [3], [7], [8], [9], [1], [13], [14], [15], [16], [17], [2], [21], [22], [23], [24], [27], [28]]\n"
          ]
        }
      ]
    },
    {
      "cell_type": "markdown",
      "source": [
        "lihat hari apa yang dicatat dalam kumpulan data."
      ],
      "metadata": {
        "id": "6OaTBoXSiKUx"
      }
    },
    {
      "cell_type": "code",
      "source": [
        "#Create and train an SVR model using a linear kernel\n",
        "lin_svr = SVR(kernel='linear', C=1000.0)\n",
        "lin_svr.fit(days,adj_close_prices)#Create and train an SVR model using a polynomial kernel\n",
        "poly_svr = SVR(kernel='poly', C=1000.0, degree=2)\n",
        "poly_svr.fit(days, adj_close_prices)#Create and train an SVR model using a RBF kernel\n",
        "rbf_svr = SVR(kernel='rbf', C=1000.0, gamma=0.15)\n",
        "rbf_svr.fit(days, adj_close_prices)"
      ],
      "metadata": {
        "colab": {
          "base_uri": "https://localhost:8080/"
        },
        "id": "wF_hojVJdd2O",
        "outputId": "28d12271-bb94-4b6a-8de6-1b16809bc402"
      },
      "execution_count": 59,
      "outputs": [
        {
          "output_type": "execute_result",
          "data": {
            "text/plain": [
              "SVR(C=1000.0, gamma=0.15)"
            ]
          },
          "metadata": {},
          "execution_count": 59
        }
      ]
    },
    {
      "cell_type": "markdown",
      "source": [
        "selanjutnya, saya akan membuat 3 different Support Vector Regression (SVR) yang berbeda dengan tiga kernel yang berbeda untuk melihat mana yang berkinerja terbaik."
      ],
      "metadata": {
        "id": "_pXaGY-6iPRb"
      }
    },
    {
      "cell_type": "code",
      "source": [
        "#Plot the models on a graph to see which has the best fit\n",
        "plt.figure(figsize=(16,8))\n",
        "plt.scatter(days, adj_close_prices, color = 'black', label='Original Data')\n",
        "plt.plot(days, rbf_svr.predict(days), color = 'green', label='RBF Model')\n",
        "plt.plot(days, poly_svr.predict(days), color = 'orange', label='Polynomial Model')\n",
        "plt.plot(days, lin_svr.predict(days), color = 'purple', label='Linear Model')\n",
        "plt.xlabel('Days')\n",
        "plt.ylabel('Adj Close Price')\n",
        "plt.title('Support Vector Regression')\n",
        "plt.legend()\n",
        "plt.show()"
      ],
      "metadata": {
        "colab": {
          "base_uri": "https://localhost:8080/",
          "height": 508
        },
        "id": "X8kymBi6dgBo",
        "outputId": "dd78d747-fb49-47a5-a1d9-2fdc346e7c48"
      },
      "execution_count": 60,
      "outputs": [
        {
          "output_type": "display_data",
          "data": {
            "text/plain": [
              "<Figure size 1152x576 with 1 Axes>"
            ],
            "image/png": "[encoded data removed]"
          },
          "metadata": {}
        }
      ]
    },
    {
      "cell_type": "markdown",
      "source": [
        "Saya akan memplot model pada grafik untuk melihat mana yang paling cocok dan mengembalikan prediksi hari itu."
      ],
      "metadata": {
        "id": "hZmzq70hic46"
      }
    },
    {
      "cell_type": "markdown",
      "source": [
        "Model terbaik dari grafik di bawah ini tampaknya adalah RBF yang merupakan model Regresi Vektor Pendukung yang menggunakan kernel yang disebut fungsi basis radial. Namun grafik ini bisa menyesatkan"
      ],
      "metadata": {
        "id": "KswHh6JHikNL"
      }
    },
    {
      "cell_type": "markdown",
      "source": [
        "Grafik yang diharapkan![1.png](data:image/png;base64,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)"
      ],
      "metadata": {
        "id": "viM0jDjMiplO"
      }
    },
    {
      "cell_type": "markdown",
      "source": [
        "Saya bisa mulai membuat prediksi harga saham saya. Mengingat baris terakhir data yang tertinggal dari kumpulan data asli, tanggalnya adalah 05–30–2019, jadi harinya adalah 29."
      ],
      "metadata": {
        "id": "gfsS_wbLjMFd"
      }
    },
    {
      "cell_type": "code",
      "source": [
        "day = [[30]]\n",
        "print('The RBF SVR predicted:', rbf_svr.predict(day))\n",
        "print('The Linear SVR predicted:', lin_svr.predict(day))\n",
        "print('The Polynomial SVR predicted:', poly_svr.predict(day))"
      ],
      "metadata": {
        "colab": {
          "base_uri": "https://localhost:8080/"
        },
        "id": "HTZOTe_Ld1oQ",
        "outputId": "b4cc6b2f-497c-495a-fa6b-1210e71b0a8f"
      },
      "execution_count": 61,
      "outputs": [
        {
          "output_type": "stream",
          "name": "stdout",
          "text": [
            "The RBF SVR predicted: [2692.62407997]\n",
            "The Linear SVR predicted: [2821.50287093]\n",
            "The Polynomial SVR predicted: [2794.36362954]\n"
          ]
        }
      ]
    },
    {
      "cell_type": "markdown",
      "source": [
        "data pada tanggal 29 September 2021 ini akan menjadi masukkan dari model untuk memprediksi harga aktual nya pada tanggal 29 September 2021 sebelumnya yaitu USD DOLLAR 2692.62407997 "
      ],
      "metadata": {
        "id": "BpIqneYkj1TU"
      }
    },
    {
      "cell_type": "code",
      "source": [
        "from datetime import datetime\n",
        "tgl = '2021-05-03'\n",
        "print(str(datetime.strptime(tgl, '%Y-%m-%d').strftime('%Y-%-#m-%-#d')).split('-')[2] ,end='\\n')\n",
        "\n",
        "#t = datetime(2012, 2, 23, 0, 0)\n",
        "#t.strftime('%-#m/%d/%Y')\n",
        "tiga = '03'\n",
        "print(int(tiga))"
      ],
      "metadata": {
        "colab": {
          "base_uri": "https://localhost:8080/"
        },
        "id": "1WBBJarPd2ty",
        "outputId": "108b5fc8-27b7-4e06-cac2-cde24d05a08b"
      },
      "execution_count": 62,
      "outputs": [
        {
          "output_type": "stream",
          "name": "stdout",
          "text": [
            "3\n",
            "3\n"
          ]
        }
      ]
    },
    {
      "cell_type": "code",
      "source": [
        "df = pd.DataFrame([[1, 2], [4, 5], [7, 8]],\n",
        "     index=['cobra', 'viper', 'sidewinder'],\n",
        "     columns=['max_speed', 'shield'])\n",
        "df\n",
        "print(df.loc['cobra'])"
      ],
      "metadata": {
        "colab": {
          "base_uri": "https://localhost:8080/"
        },
        "id": "PtMMz6jid_2U",
        "outputId": "2231f5f5-a23a-4a4b-91d4-2afa23dddb62"
      },
      "execution_count": 63,
      "outputs": [
        {
          "output_type": "stream",
          "name": "stdout",
          "text": [
            "max_speed    1\n",
            "shield       2\n",
            "Name: cobra, dtype: int64\n"
          ]
        }
      ]
    }
  ]
}